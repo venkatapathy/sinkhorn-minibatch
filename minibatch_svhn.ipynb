{
  "cells": [
    {
      "cell_type": "code",
      "execution_count": 1,
      "metadata": {
        "colab": {
          "base_uri": "https://localhost:8080/"
        },
        "id": "3IQ5dyH5WC4T",
        "outputId": "c90051de-ea50-45ec-c78f-a1f3353bae02"
      },
      "outputs": [
        {
          "name": "stdout",
          "output_type": "stream",
          "text": [
            "Looking in indexes: https://pypi.org/simple, https://us-python.pkg.dev/colab-wheels/public/simple/\n",
            "Requirement already satisfied: geomloss in /usr/local/lib/python3.10/dist-packages (0.2.6)\n",
            "Requirement already satisfied: numpy in /usr/local/lib/python3.10/dist-packages (from geomloss) (1.22.4)\n",
            "Requirement already satisfied: torch in /usr/local/lib/python3.10/dist-packages (from geomloss) (2.0.1+cu118)\n",
            "Requirement already satisfied: filelock in /usr/local/lib/python3.10/dist-packages (from torch->geomloss) (3.12.0)\n",
            "Requirement already satisfied: typing-extensions in /usr/local/lib/python3.10/dist-packages (from torch->geomloss) (4.5.0)\n",
            "Requirement already satisfied: sympy in /usr/local/lib/python3.10/dist-packages (from torch->geomloss) (1.11.1)\n",
            "Requirement already satisfied: networkx in /usr/local/lib/python3.10/dist-packages (from torch->geomloss) (3.1)\n",
            "Requirement already satisfied: jinja2 in /usr/local/lib/python3.10/dist-packages (from torch->geomloss) (3.1.2)\n",
            "Requirement already satisfied: triton==2.0.0 in /usr/local/lib/python3.10/dist-packages (from torch->geomloss) (2.0.0)\n",
            "Requirement already satisfied: cmake in /usr/local/lib/python3.10/dist-packages (from triton==2.0.0->torch->geomloss) (3.25.2)\n",
            "Requirement already satisfied: lit in /usr/local/lib/python3.10/dist-packages (from triton==2.0.0->torch->geomloss) (16.0.5)\n",
            "Requirement already satisfied: MarkupSafe>=2.0 in /usr/local/lib/python3.10/dist-packages (from jinja2->torch->geomloss) (2.1.2)\n",
            "Requirement already satisfied: mpmath>=0.19 in /usr/local/lib/python3.10/dist-packages (from sympy->torch->geomloss) (1.3.0)\n"
          ]
        }
      ],
      "source": [
        "!pip install geomloss"
      ]
    },
    {
      "cell_type": "code",
      "execution_count": 1,
      "metadata": {
        "colab": {
          "base_uri": "https://localhost:8080/"
        },
        "id": "vD8bP088VyyD",
        "outputId": "82f515ed-3211-4545-9adc-3450fa2ce5b2"
      },
      "outputs": [
        {
          "name": "stdout",
          "output_type": "stream",
          "text": [
            "Downloading http://ufldl.stanford.edu/housenumbers/train_32x32.mat to data/train_32x32.mat\n"
          ]
        },
        {
          "name": "stderr",
          "output_type": "stream",
          "text": [
            "100.0%\n"
          ]
        },
        {
          "ename": "ModuleNotFoundError",
          "evalue": "No module named 'scipy'",
          "output_type": "error",
          "traceback": [
            "\u001b[0;31m---------------------------------------------------------------------------\u001b[0m",
            "\u001b[0;31mModuleNotFoundError\u001b[0m                       Traceback (most recent call last)",
            "Cell \u001b[0;32mIn[1], line 14\u001b[0m\n\u001b[1;32m      9\u001b[0m transform \u001b[39m=\u001b[39m transforms\u001b[39m.\u001b[39mCompose([transforms\u001b[39m.\u001b[39mToTensor(),\n\u001b[1;32m     10\u001b[0m                                 transforms\u001b[39m.\u001b[39mNormalize((\u001b[39m0.5\u001b[39m,), (\u001b[39m0.5\u001b[39m,))\n\u001b[1;32m     11\u001b[0m                                 ]) \u001b[39m#####\u001b[39;00m\n\u001b[1;32m     13\u001b[0m \u001b[39m# Download and load the training data\u001b[39;00m\n\u001b[0;32m---> 14\u001b[0m svhn_trainset\u001b[39m=\u001b[39mSVHN(root\u001b[39m=\u001b[39;49m\u001b[39m'\u001b[39;49m\u001b[39mdata/\u001b[39;49m\u001b[39m'\u001b[39;49m, split\u001b[39m=\u001b[39;49m\u001b[39m\"\u001b[39;49m\u001b[39mtrain\u001b[39;49m\u001b[39m\"\u001b[39;49m, download\u001b[39m=\u001b[39;49m\u001b[39mTrue\u001b[39;49;00m, transform\u001b[39m=\u001b[39;49mtransform)\n\u001b[1;32m     15\u001b[0m subset \u001b[39m=\u001b[39m torch\u001b[39m.\u001b[39mutils\u001b[39m.\u001b[39mdata\u001b[39m.\u001b[39mSubset(svhn_trainset, \u001b[39mrange\u001b[39m(\u001b[39m73000\u001b[39m)) \u001b[39m#####\u001b[39;00m\n\u001b[1;32m     16\u001b[0m unlabeled, target \u001b[39m=\u001b[39m torch\u001b[39m.\u001b[39mutils\u001b[39m.\u001b[39mdata\u001b[39m.\u001b[39mrandom_split(subset, [\u001b[39m70000\u001b[39m, \u001b[39m3000\u001b[39m]) \u001b[39m#####\u001b[39;00m\n",
            "File \u001b[0;32m~/Projects/workbook/sinkhorn-minibatch/.venv/lib/python3.10/site-packages/torchvision/datasets/svhn.py:75\u001b[0m, in \u001b[0;36mSVHN.__init__\u001b[0;34m(self, root, split, transform, target_transform, download)\u001b[0m\n\u001b[1;32m     71\u001b[0m     \u001b[39mraise\u001b[39;00m \u001b[39mRuntimeError\u001b[39;00m(\u001b[39m\"\u001b[39m\u001b[39mDataset not found or corrupted. You can use download=True to download it\u001b[39m\u001b[39m\"\u001b[39m)\n\u001b[1;32m     73\u001b[0m \u001b[39m# import here rather than at top of file because this is\u001b[39;00m\n\u001b[1;32m     74\u001b[0m \u001b[39m# an optional dependency for torchvision\u001b[39;00m\n\u001b[0;32m---> 75\u001b[0m \u001b[39mimport\u001b[39;00m \u001b[39mscipy\u001b[39;00m\u001b[39m.\u001b[39;00m\u001b[39mio\u001b[39;00m \u001b[39mas\u001b[39;00m \u001b[39msio\u001b[39;00m\n\u001b[1;32m     77\u001b[0m \u001b[39m# reading(loading) mat file as array\u001b[39;00m\n\u001b[1;32m     78\u001b[0m loaded_mat \u001b[39m=\u001b[39m sio\u001b[39m.\u001b[39mloadmat(os\u001b[39m.\u001b[39mpath\u001b[39m.\u001b[39mjoin(\u001b[39mself\u001b[39m\u001b[39m.\u001b[39mroot, \u001b[39mself\u001b[39m\u001b[39m.\u001b[39mfilename))\n",
            "\u001b[0;31mModuleNotFoundError\u001b[0m: No module named 'scipy'"
          ]
        }
      ],
      "source": [
        "import torch\n",
        "from torchvision import datasets, transforms\n",
        "from torch.utils.data import DataLoader\n",
        "from geomloss import SamplesLoss\n",
        "from torch import optim\n",
        "from torchvision.datasets import SVHN\n",
        "\n",
        "# Define a transform to normalize the data\n",
        "transform = transforms.Compose([transforms.ToTensor(),\n",
        "                                transforms.Normalize((0.5,), (0.5,))\n",
        "                                ]) #####\n",
        "\n",
        "# Download and load the training data\n",
        "svhn_trainset=SVHN(root='data/', split=\"train\", download=True, transform=transform)\n",
        "subset = torch.utils.data.Subset(svhn_trainset, range(73000)) #####\n",
        "unlabeled, target = torch.utils.data.random_split(subset, [70000, 3000]) #####\n",
        "\n",
        "# Filter target dataset to include only one label, e.g., 0\n",
        "target_images, target_labels = zip(*target)\n",
        "label_to_keep = 0\n",
        "filtered_target_indices = [i for i, label in enumerate(target_labels) if label == label_to_keep]\n",
        "target_images_org = [target_images[i] for i in filtered_target_indices]\n",
        "target_images = torch.stack(target_images_org)\n",
        "\n",
        "unlabeled_images, unlabeled_labels = zip(*unlabeled)\n",
        "unlabeled_images = torch.stack(unlabeled_images)\n",
        "unlabeled_loader = DataLoader(list(zip(unlabeled_images, unlabeled_labels)), batch_size=10000, shuffle=False)\n",
        "\n",
        "# Count the number of datapoints with labels 0 in the unlabeled dataset\n",
        "zero_label_count = unlabeled_labels.count(0)\n",
        "print(f\"Number of datapoints with label 0 in the unlabeled dataset: {zero_label_count}\")\n",
        "\n",
        "#unlabeled, target = torch.utils.data.random_split(mnist_trainset, [59744, 256])\n",
        "#unlabeled_loader = DataLoader(unlabeled, batch_size=90, shuffle=False)\n",
        "#target_loader = DataLoader(target, batch_size=90, shuffle=False)\n",
        "target_loader = DataLoader(target_images, batch_size=len(target_images), shuffle=False)\n",
        "\n",
        "\n",
        "# Create a loss function using GeomLoss\n",
        "sinkhorn_loss = SamplesLoss(loss=\"sinkhorn\", p=2, blur=0.01)\n",
        "\n",
        "# Initialize weights for the unlabeled_images\n",
        "weights_unlabeled = torch.full((len(unlabeled), 1), 1.0 / len(unlabeled), requires_grad=True)\n",
        "weights_target = torch.full((len(target_images), 1), 1.0 / len(target), requires_grad=False)\n",
        "# Define an optimizer\n",
        "optimizer = optim.SGD([weights_unlabeled], lr=0.001)\n",
        "\n",
        "# Define a function to project weights to a simplex\n",
        "def project_to_simplex(weights):\n",
        "    return torch.clamp(weights, min=0) / torch.sum(weights)\n",
        "\n",
        "def project_simplex(v):\n",
        "        \"\"\"\n",
        "        v: PyTorch Tensor to be projected to a simplex\n",
        "\n",
        "        Returns:\n",
        "        w: PyTorch Tensor simplex projection of v\n",
        "        \"\"\"\n",
        "        z = 1\n",
        "        orig_shape = v.shape\n",
        "        v = v.view(1, -1)\n",
        "        shape = v.shape\n",
        "        with torch.no_grad():\n",
        "            mu = torch.sort(v, dim=1)[0]\n",
        "            mu = torch.flip(mu, dims=(1,))\n",
        "            cum_sum = torch.cumsum(mu, dim=1)\n",
        "            j = torch.unsqueeze(torch.arange(1, shape[1] + 1, dtype=mu.dtype, device=mu.device), 0)\n",
        "            rho = torch.sum(mu * j - cum_sum + z > 0.0, dim=1, keepdim=True) - 1.\n",
        "            rho = rho.to(int)\n",
        "            max_nn = cum_sum[torch.arange(shape[0]), rho[:, 0]]\n",
        "            theta = (torch.unsqueeze(max_nn, -1) - z) / (rho.type(max_nn.dtype) + 1)\n",
        "            w = torch.clamp(v - theta, min=0.0).view(orig_shape)\n",
        "            return w\n",
        "\n",
        "\n",
        "# Loop over the datasets 10 times\n",
        "for epoch in range(10):\n",
        "\n",
        "    losses = []\n",
        "    weights_unlabeled.grad = None  # Reset gradients at the beginning of each epoch\n",
        "\n",
        "    for batch_idx, ((unlabeled_images, _),target_images) in enumerate(zip(unlabeled_loader, target_loader)):\n",
        "        optimizer.zero_grad()  # Reset gradients\n",
        "\n",
        "        # Select the weights for the current batch\n",
        "        ##### unlabeled_images = unlabeled_images[:,0,:,:]\n",
        "        ##### target_images = target_images[:,0,:,:]\n",
        "        weights_batch = weights_unlabeled[batch_idx * unlabeled_loader.batch_size : (batch_idx + 1) * unlabeled_loader.batch_size]\n",
        "        weights_batch = weights_batch.clone() / weights_batch.sum()\n",
        "        # Compute Sinkhorn loss\n",
        "        loss = sinkhorn_loss(weights_batch,unlabeled_images.view(unlabeled_images.shape[0], -1), weights_target,\n",
        "                             target_images.view(target_images.shape[0], -1),\n",
        "                             )\n",
        "\n",
        "        losses.append(loss.item())\n",
        "\n",
        "        # Compute gradients for the loss\n",
        "        loss.backward()  # Gradients are accumulated over mini-batches\n",
        "\n",
        "    # Average the loss over all mini-batches\n",
        "    loss_avg = sum(losses) / len(losses)\n",
        "\n",
        "    # Update the weights based on the accumulated gradients\n",
        "    optimizer.step()\n",
        "\n",
        "    # Project the weights to a simplex\n",
        "    with torch.no_grad():\n",
        "        weights_unlabeled.data = project_simplex(weights_unlabeled.data)\n",
        "    \n",
        "    #weights_unlabeled = weights_unlabeled_new.clone().detach().requires_grad_(True)\n",
        "\n",
        "    print(f\"Epoch {epoch+1}, Average Sinkhorn loss: {loss_avg}\")\n",
        "\n",
        "# Sort the weights in descending order and print the non-zero weights\n",
        "sorted_weights, indices = torch.sort(weights_unlabeled.flatten(), descending=True)\n",
        "top_weights = sorted_weights[:40] #####\n",
        "top_indices = indices[:40]  #####\n",
        "\n",
        "# Retrieve the labels of the images corresponding to the top indices\n",
        "top_labels = [unlabeled_labels[idx] for idx in top_indices]\n",
        "\n",
        "print(\"Top 10 weights, their indices, and corresponding labels:\")\n",
        "for weight, idx, label in zip(top_weights, top_indices, top_labels):\n",
        "    print(f\"Weight: {weight}, Index: {idx}, Label: {label}\")"
      ]
    },
    {
      "cell_type": "code",
      "execution_count": null,
      "metadata": {},
      "outputs": [],
      "source": []
    }
  ],
  "metadata": {
    "colab": {
      "provenance": []
    },
    "kernelspec": {
      "display_name": "Python 3",
      "name": "python3"
    },
    "language_info": {
      "codemirror_mode": {
        "name": "ipython",
        "version": 3
      },
      "file_extension": ".py",
      "mimetype": "text/x-python",
      "name": "python",
      "nbconvert_exporter": "python",
      "pygments_lexer": "ipython3",
      "version": "3.10.6"
    }
  },
  "nbformat": 4,
  "nbformat_minor": 0
}
